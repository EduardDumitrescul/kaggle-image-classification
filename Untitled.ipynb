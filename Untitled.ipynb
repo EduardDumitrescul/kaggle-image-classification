{
 "cells": [
  {
   "cell_type": "code",
   "execution_count": 1,
   "id": "a43a58d8-ca81-4c3d-beb8-46ab4e58d9d3",
   "metadata": {},
   "outputs": [],
   "source": [
    "# Used for loding PNG\n",
    "from PIL import Image\n",
    "import numpy as np\n",
    "import pandas as pd\n",
    "import os"
   ]
  },
  {
   "cell_type": "code",
   "execution_count": 2,
   "id": "14bcfdac-29aa-46dd-84e7-ee8fea641a51",
   "metadata": {},
   "outputs": [],
   "source": [
    "def load_data(name):\n",
    "    df = pd.read_csv(name + '.csv')\n",
    "    df_sorted = df.sort_values(by='image_id')\n",
    "    #labels = df_sorted.drop(columns=['image_id'])\n",
    "\n",
    "    labelDict = dict()\n",
    "    labels = df_sorted.values\n",
    "    for entry in labels:\n",
    "        try:\n",
    "            labelDict[entry[0]] = entry[1]\n",
    "        except:\n",
    "            labelDict[entry[0]] = 0\n",
    "\n",
    "    images = []\n",
    "    labels = []\n",
    "    filenames = []\n",
    "    for filename in os.listdir(name):\n",
    "        if filename.endswith('.png'):\n",
    "            file_path = os.path.join(name, filename)\n",
    "            image = Image.open(file_path)\n",
    "            image_array = np.array(image)\n",
    "            if filename[:-4] in labelDict.keys():\n",
    "                filenames.append(filename[:-4])\n",
    "                images.append(image_array)\n",
    "                labels.append(labelDict[filename[:-4]])\n",
    "        \n",
    "\n",
    "    for i in range(len(images)):\n",
    "        if images[i].shape != (80, 80, 3):\n",
    "            # images[i] = np.mean(images[i], axis=2, keepdims=True)\n",
    "            images[i] = np.stack((images[i], images[i], images[i]), axis=-1)\n",
    "        # else:\n",
    "        #     images[i] = np.reshape(images[i], (80, 80, 1))\n",
    "\n",
    "    images = np.array(images)\n",
    "    labels = np.array(labels)\n",
    "\n",
    "    means = np.mean(images, axis=(0, 1, 2), keepdims=True)\n",
    "    stds = np.std(images, axis=(0, 1, 2), keepdims=True)\n",
    "    images = (images - means) / stds\n",
    "\n",
    "    mins = np.min(images, axis=(0, 1, 2), keepdims=True)\n",
    "    maxs = np.max(images, axis=(0, 1, 2), keepdims=True)\n",
    "    images = (images - mins) / (maxs - mins) * 255.0\n",
    "\n",
    "    return filenames, images, labels"
   ]
  },
  {
   "cell_type": "code",
   "execution_count": 3,
   "id": "639d31f0-57ab-44b5-9e4c-4da3b8657117",
   "metadata": {},
   "outputs": [
    {
     "name": "stdout",
     "output_type": "stream",
     "text": [
      "(10500, 19200)\n",
      "(10500,)\n",
      "(4500, 19200)\n",
      "(4500,)\n",
      "(3000, 19200)\n",
      "(3000,)\n"
     ]
    }
   ],
   "source": [
    "#LOAD\n",
    "test_filenames, test_images, test_labels = load_data('test')\n",
    "train_filenames, train_images, train_labels = load_data('train')\n",
    "validation_filenames, validation_images, validation_labels = load_data('validation')\n",
    "\n",
    "train_images = np.array(train_images)\n",
    "validation_images = np.array(validation_images)\n",
    "\n",
    "train_images = train_images.reshape((10500, 80*80*3))\n",
    "validation_images = validation_images.reshape((3000, 80*80*3))\n",
    "test_images = test_images.reshape((4500, 80*80*3))\n",
    "\n",
    "print(np.shape(train_images))\n",
    "print(np.shape(train_labels))\n",
    "print(np.shape(test_images))\n",
    "print(np.shape(test_labels))\n",
    "print(np.shape(validation_images))\n",
    "print(np.shape(validation_labels))\n",
    "\n",
    "Table = []"
   ]
  },
  {
   "cell_type": "code",
   "execution_count": 4,
   "id": "2b708020-5d3c-48c8-aba1-5052440ba88e",
   "metadata": {},
   "outputs": [],
   "source": [
    "def printPrediction(prediction, name):\n",
    "    files = []\n",
    "    folder_path = 'test'\n",
    "    for filename in os.listdir(folder_path):\n",
    "        if filename.endswith('.png'):\n",
    "            files.append(filename[:-4])\n",
    "    d = dict()\n",
    "    for i in range(len(files)):\n",
    "        d[files[i]] = prediction[i]\n",
    "\n",
    "\n",
    "    df = pd.read_csv('sample_submission.csv')\n",
    "    for i in range(len(files)):\n",
    "        df.at[i, 'label'] = d[df.at[i, 'image_id']]\n",
    "    df.to_csv(name, index=False)"
   ]
  },
  {
   "cell_type": "code",
   "execution_count": 5,
   "id": "af4db10e-211d-499d-9acc-8d9cff4dabb1",
   "metadata": {},
   "outputs": [
    {
     "name": "stdout",
     "output_type": "stream",
     "text": [
      "CPU times: user 1.05 s, sys: 89 ms, total: 1.14 s\n",
      "Wall time: 280 ms\n"
     ]
    }
   ],
   "source": [
    "%%time\n",
    "from sklearn.naive_bayes import MultinomialNB\n",
    "\n",
    "def runNaiveBayes():\n",
    "    import sklearn\n",
    "    # import the library\n",
    "    \n",
    "    # instantiate & fit\n",
    "    mnb = MultinomialNB().fit(train_images, train_labels)\n",
    "    score = str(mnb.score(validation_images, validation_labels))\n",
    "    print(\"score on test: \" + score)\n",
    "    Table.append(['Naive Bayes', score])\n",
    "\n",
    "    prediction = mnb.predict(test_images)\n",
    "    printPrediction(prediction, 'naive-bayes.csv')"
   ]
  },
  {
   "cell_type": "code",
   "execution_count": 6,
   "id": "b418cd8c-c151-434f-90e9-cf24e2c196f1",
   "metadata": {},
   "outputs": [
    {
     "name": "stdout",
     "output_type": "stream",
     "text": [
      "CPU times: user 44.5 ms, sys: 4.03 ms, total: 48.5 ms\n",
      "Wall time: 47.9 ms\n"
     ]
    }
   ],
   "source": [
    "%%time\n",
    "\n",
    "# import the library\n",
    "from sklearn.neighbors import KNeighborsClassifier\n",
    "\n",
    "def runKNeighborsClassifier():\n",
    "    # instantiate & fit\n",
    "    knn = KNeighborsClassifier(algorithm = 'auto', n_jobs=-1)\n",
    "    knn.fit(train_images, train_labels)\n",
    "    score = str(knn.score(validation_images, validation_labels))\n",
    "    print(\"score on test: \" + score)\n",
    "    Table.append(['KNN', score])\n",
    "\n",
    "    prediction = knn.predict(test_images)\n",
    "    printPrediction(prediction, 'k-neighbors.csv')"
   ]
  },
  {
   "cell_type": "code",
   "execution_count": 7,
   "id": "556a5c22-f4f6-441f-8697-1cca64e1761a",
   "metadata": {},
   "outputs": [
    {
     "name": "stdout",
     "output_type": "stream",
     "text": [
      "CPU times: user 5.16 ms, sys: 0 ns, total: 5.16 ms\n",
      "Wall time: 4.54 ms\n"
     ]
    }
   ],
   "source": [
    "%%time\n",
    "\n",
    "# import the library\n",
    "from sklearn.tree import DecisionTreeClassifier\n",
    "\n",
    "def runDecisionTreeClassifier():\n",
    "    # instantiate & fit\n",
    "    clf = DecisionTreeClassifier(min_samples_split=10,max_depth=None)\n",
    "    clf.fit(train_images, train_labels)\n",
    "    score = str(clf.score(validation_images, validation_labels))\n",
    "    print(\"score on test: \"  + score)\n",
    "    Table.append(['Decision Tree', score])\n",
    "\n",
    "    prediction = clf.predict(test_images)\n",
    "    printPrediction(prediction, \"decision-tree.csv\")"
   ]
  },
  {
   "cell_type": "code",
   "execution_count": 8,
   "id": "b07d06a1-a9a9-4b4c-9c97-eafdd9054135",
   "metadata": {},
   "outputs": [
    {
     "name": "stdout",
     "output_type": "stream",
     "text": [
      "score on test: 0.418\n",
      "score on test: 0.42333333333333334\n",
      "score on test: 0.41533333333333333\n"
     ]
    }
   ],
   "source": [
    "runNaiveBayes()\n",
    "runKNeighborsClassifier()\n",
    "runDecisionTreeClassifier()"
   ]
  },
  {
   "cell_type": "code",
   "execution_count": 9,
   "id": "cd04eb2d-f701-41ab-a398-09f8fee17818",
   "metadata": {},
   "outputs": [
    {
     "name": "stdout",
     "output_type": "stream",
     "text": [
      "[['Naive Bayes', '0.418'], ['KNN', '0.42333333333333334'], ['Decision Tree', '0.41533333333333333']]\n"
     ]
    }
   ],
   "source": [
    "print(Table)"
   ]
  },
  {
   "cell_type": "raw",
   "id": "c52108bc-9a3f-40e2-a49c-1c9f2de51fc9",
   "metadata": {},
   "source": []
  }
 ],
 "metadata": {
  "kernelspec": {
   "display_name": "Python 3 (ipykernel)",
   "language": "python",
   "name": "python3"
  },
  "language_info": {
   "codemirror_mode": {
    "name": "ipython",
    "version": 3
   },
   "file_extension": ".py",
   "mimetype": "text/x-python",
   "name": "python",
   "nbconvert_exporter": "python",
   "pygments_lexer": "ipython3",
   "version": "3.12.3"
  }
 },
 "nbformat": 4,
 "nbformat_minor": 5
}
